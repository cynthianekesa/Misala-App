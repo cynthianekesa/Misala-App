{
  "nbformat": 4,
  "nbformat_minor": 0,
  "metadata": {
    "colab": {
      "provenance": [],
      "gpuType": "T4",
      "authorship_tag": "ABX9TyMt5lhAqXoLs+AHv8FBBAmx",
      "include_colab_link": true
    },
    "kernelspec": {
      "name": "python3",
      "display_name": "Python 3"
    },
    "language_info": {
      "name": "python"
    },
    "accelerator": "GPU"
  },
  "cells": [
    {
      "cell_type": "markdown",
      "metadata": {
        "id": "view-in-github",
        "colab_type": "text"
      },
      "source": [
        "<a href=\"https://colab.research.google.com/github/cynthianekesa/Misala-App/blob/main/Misala_App_NLP_Rule_Based_Chatbot_Model.ipynb\" target=\"_parent\"><img src=\"https://colab.research.google.com/assets/colab-badge.svg\" alt=\"Open In Colab\"/></a>"
      ]
    },
    {
      "cell_type": "code",
      "execution_count": 1,
      "metadata": {
        "colab": {
          "base_uri": "https://localhost:8080/"
        },
        "id": "MpQiBmtPTrU1",
        "outputId": "fd6f44e5-9cec-480b-fb7e-7a005ccf5f11"
      },
      "outputs": [
        {
          "output_type": "stream",
          "name": "stdout",
          "text": [
            "Requirement already satisfied: nltk in /usr/local/lib/python3.11/dist-packages (3.9.1)\n",
            "Requirement already satisfied: click in /usr/local/lib/python3.11/dist-packages (from nltk) (8.2.1)\n",
            "Requirement already satisfied: joblib in /usr/local/lib/python3.11/dist-packages (from nltk) (1.5.1)\n",
            "Requirement already satisfied: regex>=2021.8.3 in /usr/local/lib/python3.11/dist-packages (from nltk) (2024.11.6)\n",
            "Requirement already satisfied: tqdm in /usr/local/lib/python3.11/dist-packages (from nltk) (4.67.1)\n"
          ]
        }
      ],
      "source": [
        "# Installing NLTK library\n",
        "\n",
        "pip install nltk"
      ]
    },
    {
      "cell_type": "code",
      "source": [
        "# Importing required libraries\n",
        "\n",
        "import nltk\n",
        "import re\n",
        "from nltk.chat.util import Chat, reflections"
      ],
      "metadata": {
        "id": "wnJ2RejeKet9"
      },
      "execution_count": 2,
      "outputs": []
    },
    {
      "cell_type": "code",
      "source": [
        "# Downloading NLTK datasets\n",
        "\n",
        "nltk.download('punkt')\n",
        "nltk.download('averaged_perceptron_tagger')\n",
        "nltk.download('maxent_ne_chunker')\n",
        "nltk.download('words')\n",
        "\n"
      ],
      "metadata": {
        "colab": {
          "base_uri": "https://localhost:8080/"
        },
        "id": "dryzqTaXKvtF",
        "outputId": "b836f232-234d-4e99-8c16-53a880b47c8c"
      },
      "execution_count": 3,
      "outputs": [
        {
          "output_type": "stream",
          "name": "stderr",
          "text": [
            "[nltk_data] Downloading package punkt to /root/nltk_data...\n",
            "[nltk_data]   Unzipping tokenizers/punkt.zip.\n",
            "[nltk_data] Downloading package averaged_perceptron_tagger to\n",
            "[nltk_data]     /root/nltk_data...\n",
            "[nltk_data]   Unzipping taggers/averaged_perceptron_tagger.zip.\n",
            "[nltk_data] Downloading package maxent_ne_chunker to\n",
            "[nltk_data]     /root/nltk_data...\n",
            "[nltk_data]   Unzipping chunkers/maxent_ne_chunker.zip.\n",
            "[nltk_data] Downloading package words to /root/nltk_data...\n",
            "[nltk_data]   Unzipping corpora/words.zip.\n"
          ]
        },
        {
          "output_type": "execute_result",
          "data": {
            "text/plain": [
              "True"
            ]
          },
          "metadata": {},
          "execution_count": 3
        }
      ]
    },
    {
      "cell_type": "code",
      "source": [
        "# Define additional knowledge base (can be linked to a backend DB in future)\n",
        "interesting_facts = [\n",
        "    \"Did you know? The **Neem tree** is often called the 'village pharmacy' in Africa due to its many medicinal uses!\",\n",
        "    \"Aloe vera, found in parts of East Africa, is used for burns, skin care, and even digestive issues.\",\n",
        "    \"The Baobab tree's leaves and fruit are rich in Vitamin C and are used for immune-boosting tonics.\",\n",
        "    \"African ginger is traditionally used to treat colds, coughs, and digestive disorders.\"\n",
        "]\n",
        "\n",
        "endangered_plants = [\n",
        "    \"Prunus africana (African cherry) — used to treat prostate disorders — is at risk due to overharvesting.\",\n",
        "    \"Warburgia salutaris (Pepper-bark tree) — used for coughs and colds — is critically endangered in southern Africa.\",\n",
        "    \"Harpagophytum (Devil’s Claw) — used for arthritis — is threatened by habitat loss and unsustainable harvesting.\"\n",
        "]\n",
        "\n",
        "# Rule-based patterns\n",
        "pairs = [\n",
        "    [r\"hi|hello|hey\",\n",
        "     [\"Hello! 👋 How can I assist you today?\",\n",
        "      \"Hi there! Need help with medicinal plants or remedies?\"]],\n",
        "\n",
        "    [r\"identify plant|how to identify (a )?plant|help me find a plant\",\n",
        "     [\"Sure! To identify a plant, try uploading a clear photo using the 'Identify Plant' feature in the app. 🌿\"]],\n",
        "\n",
        "    [r\"add remedy|contribute remedy|upload remedy\",\n",
        "     [\"We welcome your contribution! 📝 Use the 'Contribute Remedy' button in the app to share your knowledge.\"]],\n",
        "\n",
        "    [r\"(read|show) blog|blog posts|latest biodiversity (blogs|articles)\",\n",
        "     [\"You can explore our latest blog posts on biodiversity by tapping the 'Biodiversity Blogs' section. 🌍\"]],\n",
        "\n",
        "    [r\"what is (.*?) good for\",\n",
        "     [r\"The plant \\1 is traditionally used for various remedies. Check the app’s 'Remedies' section for full details.\"]],\n",
        "\n",
        "    [r\"tell me a fact|interesting (fact|info) about plants|plant facts|african plant facts\",\n",
        "     [fact for fact in interesting_facts]],\n",
        "\n",
        "    [r\"(which|what) medicinal plants are (endangered|at risk)|endangered plants|plants at risk\",\n",
        "     [plant for plant in endangered_plants]],\n",
        "\n",
        "    [r\"thank you|thanks\",\n",
        "     [\"You're welcome! Let me know if you need more help. 😊\"]],\n",
        "\n",
        "    [r\"(.*)\",\n",
        "     [\"I'm sorry, I didn't quite get that. Can you rephrase or try another feature in the app?\"]]\n",
        "]\n"
      ],
      "metadata": {
        "id": "DPyD3UhXLNa1"
      },
      "execution_count": 4,
      "outputs": []
    },
    {
      "cell_type": "code",
      "source": [
        "# Defining chatbot Class\n",
        "\n",
        "class RuleBasedChatbot:\n",
        "    def __init__(self, pairs):\n",
        "        self.chat = Chat(pairs, reflections)\n",
        "\n",
        "    def respond(self, user_input):\n",
        "        return self.chat.respond(user_input)"
      ],
      "metadata": {
        "id": "7C1AbVb5LfXc"
      },
      "execution_count": 8,
      "outputs": []
    },
    {
      "cell_type": "code",
      "source": [
        "# Input Loop\n",
        "\n",
        "def chat_with_bot():\n",
        "    print(\"Hello, I am your Misala chatbot! Type 'exit' to end the conversation.\")\n",
        "    while True:\n",
        "        user_input = input(\"You: \")\n",
        "        if user_input.lower() == 'exit':\n",
        "            print(\"Chatbot: Goodbye! Have a nice day!\")\n",
        "            break\n",
        "        response = chatbot.respond(user_input)\n",
        "        print(f\"Chatbot: {response}\")"
      ],
      "metadata": {
        "id": "r40ylt4VLs0T"
      },
      "execution_count": 9,
      "outputs": []
    },
    {
      "cell_type": "code",
      "source": [
        "# Initializing chatbot\n",
        "\n",
        "chatbot = RuleBasedChatbot(pairs)\n",
        "chat_with_bot()"
      ],
      "metadata": {
        "colab": {
          "base_uri": "https://localhost:8080/"
        },
        "id": "811T8Y-rMNAw",
        "outputId": "0856ebf4-488a-4a34-9ba4-7dc5fc8e63c3"
      },
      "execution_count": 10,
      "outputs": [
        {
          "output_type": "stream",
          "name": "stdout",
          "text": [
            "Hello, I am your Misala chatbot! Type 'exit' to end the conversation.\n",
            "You: My name is Cyndy\n",
            "Chatbot: I'm sorry, I didn't quite get that. Can you rephrase or try another feature in the app?\n",
            "You: Tell me a fact\n",
            "Chatbot: African ginger is traditionally used to treat colds, coughs, and digestive disorders.\n",
            "You: What medicinal plants are endangered?\n",
            "Chatbot: Harpagophytum (Devil’s Claw) — used for arthritis — is threatened by habitat loss and unsustainable harvesting.\n",
            "You: Why is it endangered?\n",
            "Chatbot: I'm sorry, I didn't quite get that. Can you rephrase or try another feature in the app?\n",
            "You: Help me find a plant on this app\n",
            "Chatbot: Sure! To identify a plant, try uploading a clear photo using the 'Identify Plant' feature in the app. 🌿\n",
            "You: Thank you\n",
            "Chatbot: You're welcome! Let me know if you need more help. 😊\n",
            "You: Exit\n",
            "Chatbot: Goodbye! Have a nice day!\n"
          ]
        }
      ]
    }
  ]
}